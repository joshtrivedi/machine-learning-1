{
  "nbformat": 4,
  "nbformat_minor": 0,
  "metadata": {
    "colab": {
      "name": "CNN.ipynb",
      "provenance": []
    },
    "kernelspec": {
      "name": "python3",
      "display_name": "Python 3"
    }
  },
  "cells": [
    {
      "cell_type": "code",
      "metadata": {
        "id": "ZRu9ndDu3Asu",
        "colab_type": "code",
        "colab": {}
      },
      "source": [
        "import numpy as np\n",
        "import numpy.random as nr\n",
        "import matplotlib.pyplot as plt\n",
        "import keras\n",
        "from keras.datasets import mnist\n",
        "import keras.utils.np_utils as ku\n",
        "import keras.models as models\n",
        "import keras.layers as layers\n",
        "from keras import regularizers\n",
        "from keras.layers import Dropout\n",
        "from keras.optimizers import rmsprop, Adam\n",
        "from keras.utils import to_categorical\n",
        "\n",
        "%matplotlib inline"
      ],
      "execution_count": 0,
      "outputs": []
    },
    {
      "cell_type": "code",
      "metadata": {
        "id": "sHFZSQyh0-SP",
        "colab_type": "code",
        "colab": {}
      },
      "source": [
        "import tensorflow as tf\n"
      ],
      "execution_count": 0,
      "outputs": []
    },
    {
      "cell_type": "code",
      "metadata": {
        "id": "YxnOb8v4qr0A",
        "colab_type": "code",
        "colab": {}
      },
      "source": [
        "from tensorflow.keras.models import Sequential\n",
        "from tensorflow.keras.layers import Dense, Dropout, Activation, Flatten\n",
        "from tensorflow.keras.layers import Conv2D"
      ],
      "execution_count": 0,
      "outputs": []
    },
    {
      "cell_type": "code",
      "metadata": {
        "id": "LzSDhVWy-aQm",
        "colab_type": "code",
        "colab": {
          "base_uri": "https://localhost:8080/",
          "height": 33
        },
        "outputId": "e22dbb7e-2ec8-4805-ab1e-207cfba89a31"
      },
      "source": [
        "print(keras.__version__)"
      ],
      "execution_count": 140,
      "outputs": [
        {
          "output_type": "stream",
          "text": [
            "2.2.5\n"
          ],
          "name": "stdout"
        }
      ]
    },
    {
      "cell_type": "code",
      "metadata": {
        "id": "YakI7Ba7sXzK",
        "colab_type": "code",
        "colab": {}
      },
      "source": [
        "from keras.datasets import fashion_mnist\n",
        "(train_X,train_Y), (test_X,test_Y) = fashion_mnist.load_data()"
      ],
      "execution_count": 0,
      "outputs": []
    },
    {
      "cell_type": "code",
      "metadata": {
        "id": "pnCjBjAZsYRm",
        "colab_type": "code",
        "colab": {
          "base_uri": "https://localhost:8080/",
          "height": 281
        },
        "outputId": "1205e711-0ab2-471f-83ff-6532ee44d63f"
      },
      "source": [
        "plt.imshow(train_X[10])\n",
        "print(train_Y[10])"
      ],
      "execution_count": 53,
      "outputs": [
        {
          "output_type": "stream",
          "text": [
            "0\n"
          ],
          "name": "stdout"
        },
        {
          "output_type": "display_data",
          "data": {
            "image/png": "[encoded data removed]",
            "text/plain": [
              "<Figure size 432x288 with 1 Axes>"
            ]
          },
          "metadata": {
            "tags": []
          }
        }
      ]
    },
    {
      "cell_type": "code",
      "metadata": {
        "id": "ulwHlSfsscfW",
        "colab_type": "code",
        "outputId": "f6dba1c0-f9c2-46e5-bef0-67120b2dd7ce",
        "colab": {
          "base_uri": "https://localhost:8080/",
          "height": 50
        }
      },
      "source": [
        "print('Training data shape : ', train_X.shape, train_Y.shape)\n",
        "\n",
        "print('Testing data shape : ', test_X.shape, test_Y.shape)"
      ],
      "execution_count": 54,
      "outputs": [
        {
          "output_type": "stream",
          "text": [
            "Training data shape :  (60000, 28, 28) (60000,)\n",
            "Testing data shape :  (10000, 28, 28) (10000,)\n"
          ],
          "name": "stdout"
        }
      ]
    },
    {
      "cell_type": "code",
      "metadata": {
        "id": "ftBOT74FtVac",
        "colab_type": "code",
        "outputId": "6364bb24-6c7a-499c-ed8a-6719b1966a81",
        "colab": {
          "base_uri": "https://localhost:8080/",
          "height": 50
        }
      },
      "source": [
        "classes = np.unique(train_Y)\n",
        "nClasses = len(classes)\n",
        "print('Total number of outputs : ', nClasses)\n",
        "print('Output classes : ', classes)"
      ],
      "execution_count": 55,
      "outputs": [
        {
          "output_type": "stream",
          "text": [
            "Total number of outputs :  10\n",
            "Output classes :  [0 1 2 3 4 5 6 7 8 9]\n"
          ],
          "name": "stdout"
        }
      ]
    },
    {
      "cell_type": "code",
      "metadata": {
        "id": "NroQGKObttH8",
        "colab_type": "code",
        "outputId": "09f57d2a-3f83-461d-b60e-f15783739bd0",
        "colab": {
          "base_uri": "https://localhost:8080/",
          "height": 208
        }
      },
      "source": [
        "plt.figure(figsize=[5,5])\n",
        "\n",
        "# Display the first image in training data\n",
        "plt.subplot(121)\n",
        "plt.imshow(train_X[0,:,:], cmap='gray')\n",
        "plt.title(\"Ground Truth : {}\".format(train_Y[0]))\n",
        "\n",
        "# Display the first image in testing data\n",
        "plt.subplot(122)\n",
        "plt.imshow(test_X[0,:,:], cmap='gray')\n",
        "plt.title(\"Ground Truth : {}\".format(test_Y[0]))"
      ],
      "execution_count": 56,
      "outputs": [
        {
          "output_type": "execute_result",
          "data": {
            "text/plain": [
              "Text(0.5, 1.0, 'Ground Truth : 9')"
            ]
          },
          "metadata": {
            "tags": []
          },
          "execution_count": 56
        },
        {
          "output_type": "display_data",
          "data": {
            "image/png": "[encoded data removed]",
            "text/plain": [
              "<Figure size 360x360 with 2 Axes>"
            ]
          },
          "metadata": {
            "tags": []
          }
        }
      ]
    },
    {
      "cell_type": "code",
      "metadata": {
        "id": "NBy1GiTRtyoq",
        "colab_type": "code",
        "outputId": "689fb019-062f-4756-e4c6-9f370898c1b8",
        "colab": {
          "base_uri": "https://localhost:8080/",
          "height": 33
        }
      },
      "source": [
        "train_X = train_X.reshape(-1, 28,28, 1)\n",
        "test_X = test_X.reshape(-1, 28,28, 1)\n",
        "train_X.shape, test_X.shape"
      ],
      "execution_count": 57,
      "outputs": [
        {
          "output_type": "execute_result",
          "data": {
            "text/plain": [
              "((60000, 28, 28, 1), (10000, 28, 28, 1))"
            ]
          },
          "metadata": {
            "tags": []
          },
          "execution_count": 57
        }
      ]
    },
    {
      "cell_type": "code",
      "metadata": {
        "id": "Yv5yRt1WtzpD",
        "colab_type": "code",
        "colab": {}
      },
      "source": [
        "train_X = train_X.astype('float32')\n",
        "test_X = test_X.astype('float32')\n",
        "train_X = train_X / 255.\n",
        "test_X = test_X / 255"
      ],
      "execution_count": 0,
      "outputs": []
    },
    {
      "cell_type": "code",
      "metadata": {
        "id": "VJ3Q9FeMuCPl",
        "colab_type": "code",
        "outputId": "2fe89fb1-1ab3-4f67-9c22-259f3bd914d8",
        "colab": {
          "base_uri": "https://localhost:8080/",
          "height": 50
        }
      },
      "source": [
        "# Change the labels from categorical to one-hot encoding\n",
        "train_Y_one_hot = to_categorical(train_Y)\n",
        "test_Y_one_hot = to_categorical(test_Y)\n",
        "\n",
        "# Display the change for category label using one-hot encoding\n",
        "print('Original label:', train_Y[0])\n",
        "print('After conversion to one-hot:', train_Y_one_hot[0])"
      ],
      "execution_count": 59,
      "outputs": [
        {
          "output_type": "stream",
          "text": [
            "Original label: 9\n",
            "After conversion to one-hot: [0. 0. 0. 0. 0. 0. 0. 0. 0. 1.]\n"
          ],
          "name": "stdout"
        }
      ]
    },
    {
      "cell_type": "code",
      "metadata": {
        "id": "0_985YVcuDAW",
        "colab_type": "code",
        "colab": {}
      },
      "source": [
        "from sklearn.model_selection import train_test_split\n",
        "train_X,valid_X,train_label,valid_label = train_test_split(train_X, train_Y_one_hot, test_size=0.2, random_state=13)"
      ],
      "execution_count": 0,
      "outputs": []
    },
    {
      "cell_type": "code",
      "metadata": {
        "id": "8EKJMWjzuDrM",
        "colab_type": "code",
        "outputId": "6216022e-cf6f-4d67-f855-0d4c4604eeb9",
        "colab": {
          "base_uri": "https://localhost:8080/",
          "height": 33
        }
      },
      "source": [
        "train_X.shape,valid_X.shape,train_label.shape,valid_label.shape\n"
      ],
      "execution_count": 61,
      "outputs": [
        {
          "output_type": "execute_result",
          "data": {
            "text/plain": [
              "((48000, 28, 28, 1), (12000, 28, 28, 1), (48000, 10), (12000, 10))"
            ]
          },
          "metadata": {
            "tags": []
          },
          "execution_count": 61
        }
      ]
    },
    {
      "cell_type": "code",
      "metadata": {
        "id": "YxOnVwxFuEDX",
        "colab_type": "code",
        "colab": {}
      },
      "source": [
        "import keras\n",
        "from keras.models import Sequential,Input,Model\n",
        "from keras.layers import Dense, Dropout, Flatten\n",
        "from keras.layers import Conv2D, MaxPooling2D\n",
        "from keras.layers.normalization import BatchNormalization\n",
        "from keras.layers.advanced_activations import LeakyReLU"
      ],
      "execution_count": 0,
      "outputs": []
    },
    {
      "cell_type": "code",
      "metadata": {
        "id": "6n1qXoxUzzbI",
        "colab_type": "code",
        "colab": {}
      },
      "source": [
        "batch_size = 64\n",
        "epochs = 20\n",
        "num_classes = 10"
      ],
      "execution_count": 0,
      "outputs": []
    },
    {
      "cell_type": "code",
      "metadata": {
        "id": "OYAeGKfeA_6C",
        "colab_type": "code",
        "colab": {}
      },
      "source": [
        "import keras\n",
        "import keras.models as models"
      ],
      "execution_count": 0,
      "outputs": []
    },
    {
      "cell_type": "code",
      "metadata": {
        "id": "D0mbucEa0b5V",
        "colab_type": "code",
        "colab": {
          "base_uri": "https://localhost:8080/",
          "height": 33
        },
        "outputId": "b46e62d6-811b-42e9-dcf2-67edc93442c0"
      },
      "source": [
        "train_X.shape[1:]"
      ],
      "execution_count": 113,
      "outputs": [
        {
          "output_type": "execute_result",
          "data": {
            "text/plain": [
              "(28, 28, 1)"
            ]
          },
          "metadata": {
            "tags": []
          },
          "execution_count": 113
        }
      ]
    },
    {
      "cell_type": "code",
      "metadata": {
        "id": "SnYey_i0z8aq",
        "colab_type": "code",
        "colab": {}
      },
      "source": [
        "model = tf.keras.Sequential()"
      ],
      "execution_count": 0,
      "outputs": []
    },
    {
      "cell_type": "code",
      "metadata": {
        "id": "jR9z9JatsOD1",
        "colab_type": "code",
        "colab": {}
      },
      "source": [
        "model.add(tf.keras.layers.Conv2D(32,(3,3),activation='linear',input_shape=(28, 28,1),padding='same'))\n",
        "model.add(tf.keras.layers.LeakyReLU(alpha=0.1))\n",
        "model.add(tf.keras.layers.MaxPooling2D((2, 2),padding='same'))\n"
      ],
      "execution_count": 0,
      "outputs": []
    },
    {
      "cell_type": "code",
      "metadata": {
        "id": "BlRWESGTvMo6",
        "colab_type": "code",
        "colab": {}
      },
      "source": [
        "model.add(tf.keras.layers.Conv2D(64, (3, 3), activation='linear',padding='same'))\n",
        "model.add(tf.keras.layers.LeakyReLU(alpha=0.1))\n",
        "model.add(tf.keras.layers.MaxPooling2D(pool_size=(2, 2),padding='same'))\n",
        "model.add(tf.keras.layers.Conv2D(128, (3, 3), activation='linear',padding='same'))\n",
        "model.add(tf.keras.layers.LeakyReLU(alpha=0.1))                  \n",
        "model.add(tf.keras.layers.MaxPooling2D(pool_size=(2, 2),padding='same'))\n"
      ],
      "execution_count": 0,
      "outputs": []
    },
    {
      "cell_type": "code",
      "metadata": {
        "id": "1URzrx2Xvmpo",
        "colab_type": "code",
        "colab": {}
      },
      "source": [
        "model.add(tf.keras.layers.Flatten())"
      ],
      "execution_count": 0,
      "outputs": []
    },
    {
      "cell_type": "code",
      "metadata": {
        "id": "iS549nNBFdYo",
        "colab_type": "code",
        "colab": {}
      },
      "source": [
        "model.add(tf.keras.layers.Dense(128, activation='linear'))\n",
        "model.add(tf.keras.layers.LeakyReLU(alpha=0.1))                  \n",
        "model.add(tf.keras.layers.Dense(num_classes, activation='softmax'))"
      ],
      "execution_count": 0,
      "outputs": []
    },
    {
      "cell_type": "code",
      "metadata": {
        "id": "GdOqY2RUI9vS",
        "colab_type": "code",
        "colab": {}
      },
      "source": [
        "model.compile(loss=tf.keras.losses.categorical_crossentropy, optimizer=tf.keras.optimizers.Adam(),metrics=['accuracy'])\n"
      ],
      "execution_count": 0,
      "outputs": []
    },
    {
      "cell_type": "code",
      "metadata": {
        "id": "VWQmyQ-hxAaa",
        "colab_type": "code",
        "colab": {
          "base_uri": "https://localhost:8080/",
          "height": 585
        },
        "outputId": "8f6e6a12-c733-4266-a2f5-891d06b03d47"
      },
      "source": [
        "model.summary()\n"
      ],
      "execution_count": 150,
      "outputs": [
        {
          "output_type": "stream",
          "text": [
            "Model: \"sequential_18\"\n",
            "_________________________________________________________________\n",
            "Layer (type)                 Output Shape              Param #   \n",
            "=================================================================\n",
            "conv2d_21 (Conv2D)           (None, 28, 28, 32)        320       \n",
            "_________________________________________________________________\n",
            "leaky_re_lu_19 (LeakyReLU)   (None, 28, 28, 32)        0         \n",
            "_________________________________________________________________\n",
            "max_pooling2d_14 (MaxPooling (None, 14, 14, 32)        0         \n",
            "_________________________________________________________________\n",
            "conv2d_22 (Conv2D)           (None, 14, 14, 64)        18496     \n",
            "_________________________________________________________________\n",
            "leaky_re_lu_20 (LeakyReLU)   (None, 14, 14, 64)        0         \n",
            "_________________________________________________________________\n",
            "max_pooling2d_15 (MaxPooling (None, 7, 7, 64)          0         \n",
            "_________________________________________________________________\n",
            "conv2d_23 (Conv2D)           (None, 7, 7, 128)         73856     \n",
            "_________________________________________________________________\n",
            "leaky_re_lu_21 (LeakyReLU)   (None, 7, 7, 128)         0         \n",
            "_________________________________________________________________\n",
            "max_pooling2d_16 (MaxPooling (None, 4, 4, 128)         0         \n",
            "_________________________________________________________________\n",
            "flatten_4 (Flatten)          (None, 2048)              0         \n",
            "_________________________________________________________________\n",
            "dense_8 (Dense)              (None, 128)               262272    \n",
            "_________________________________________________________________\n",
            "leaky_re_lu_22 (LeakyReLU)   (None, 128)               0         \n",
            "_________________________________________________________________\n",
            "dense_9 (Dense)              (None, 10)                1290      \n",
            "=================================================================\n",
            "Total params: 356,234\n",
            "Trainable params: 356,234\n",
            "Non-trainable params: 0\n",
            "_________________________________________________________________\n"
          ],
          "name": "stdout"
        }
      ]
    },
    {
      "cell_type": "code",
      "metadata": {
        "id": "ZT8bQWyexRxD",
        "colab_type": "code",
        "colab": {
          "base_uri": "https://localhost:8080/",
          "height": 686
        },
        "outputId": "b5e47ae9-e4ae-4223-8ebd-46e6cc8074ff"
      },
      "source": [
        "model_train=model.fit(train_X, train_label, batch_size=64,epochs=20,verbose=1,validation_data=(valid_X, valid_label))"
      ],
      "execution_count": 151,
      "outputs": [
        {
          "output_type": "stream",
          "text": [
            "Epoch 1/20\n",
            "750/750 [==============================] - 83s 110ms/step - loss: 0.4606 - accuracy: 0.8324 - val_loss: 0.3260 - val_accuracy: 0.8839\n",
            "Epoch 2/20\n",
            "750/750 [==============================] - 82s 110ms/step - loss: 0.2875 - accuracy: 0.8948 - val_loss: 0.2890 - val_accuracy: 0.8928\n",
            "Epoch 3/20\n",
            "750/750 [==============================] - 82s 109ms/step - loss: 0.2424 - accuracy: 0.9094 - val_loss: 0.2497 - val_accuracy: 0.9059\n",
            "Epoch 4/20\n",
            "750/750 [==============================] - 82s 109ms/step - loss: 0.2122 - accuracy: 0.9214 - val_loss: 0.2382 - val_accuracy: 0.9141\n",
            "Epoch 5/20\n",
            "750/750 [==============================] - 82s 109ms/step - loss: 0.1865 - accuracy: 0.9304 - val_loss: 0.2281 - val_accuracy: 0.9172\n",
            "Epoch 6/20\n",
            "750/750 [==============================] - 82s 109ms/step - loss: 0.1656 - accuracy: 0.9382 - val_loss: 0.2358 - val_accuracy: 0.9132\n",
            "Epoch 7/20\n",
            "750/750 [==============================] - 82s 109ms/step - loss: 0.1429 - accuracy: 0.9478 - val_loss: 0.2329 - val_accuracy: 0.9202\n",
            "Epoch 8/20\n",
            "750/750 [==============================] - 82s 109ms/step - loss: 0.1249 - accuracy: 0.9533 - val_loss: 0.2510 - val_accuracy: 0.9171\n",
            "Epoch 9/20\n",
            "750/750 [==============================] - 82s 109ms/step - loss: 0.1072 - accuracy: 0.9594 - val_loss: 0.2465 - val_accuracy: 0.9212\n",
            "Epoch 10/20\n",
            "750/750 [==============================] - 81s 108ms/step - loss: 0.0903 - accuracy: 0.9663 - val_loss: 0.2584 - val_accuracy: 0.9237\n",
            "Epoch 11/20\n",
            "750/750 [==============================] - 81s 108ms/step - loss: 0.0778 - accuracy: 0.9704 - val_loss: 0.2987 - val_accuracy: 0.9178\n",
            "Epoch 12/20\n",
            "750/750 [==============================] - 82s 109ms/step - loss: 0.0668 - accuracy: 0.9750 - val_loss: 0.3277 - val_accuracy: 0.9184\n",
            "Epoch 13/20\n",
            "750/750 [==============================] - 83s 110ms/step - loss: 0.0568 - accuracy: 0.9787 - val_loss: 0.3249 - val_accuracy: 0.9200\n",
            "Epoch 14/20\n",
            "750/750 [==============================] - 82s 110ms/step - loss: 0.0505 - accuracy: 0.9811 - val_loss: 0.3176 - val_accuracy: 0.9218\n",
            "Epoch 15/20\n",
            "750/750 [==============================] - 82s 109ms/step - loss: 0.0438 - accuracy: 0.9835 - val_loss: 0.3473 - val_accuracy: 0.9175\n",
            "Epoch 16/20\n",
            "750/750 [==============================] - 82s 109ms/step - loss: 0.0424 - accuracy: 0.9838 - val_loss: 0.3952 - val_accuracy: 0.9190\n",
            "Epoch 17/20\n",
            "750/750 [==============================] - 82s 110ms/step - loss: 0.0357 - accuracy: 0.9865 - val_loss: 0.4218 - val_accuracy: 0.9218\n",
            "Epoch 18/20\n",
            "750/750 [==============================] - 82s 109ms/step - loss: 0.0317 - accuracy: 0.9879 - val_loss: 0.3919 - val_accuracy: 0.9187\n",
            "Epoch 19/20\n",
            "750/750 [==============================] - 82s 109ms/step - loss: 0.0335 - accuracy: 0.9881 - val_loss: 0.3987 - val_accuracy: 0.9207\n",
            "Epoch 20/20\n",
            "750/750 [==============================] - 82s 109ms/step - loss: 0.0255 - accuracy: 0.9907 - val_loss: 0.4559 - val_accuracy: 0.9158\n"
          ],
          "name": "stdout"
        }
      ]
    },
    {
      "cell_type": "code",
      "metadata": {
        "id": "_1usdDpMzV7w",
        "colab_type": "code",
        "colab": {
          "base_uri": "https://localhost:8080/",
          "height": 50
        },
        "outputId": "3bc6a330-7f18-4c06-8aba-7fcfc33cbecb"
      },
      "source": [
        "test_eval = model.evaluate(test_X, test_Y_one_hot, verbose=0)\n",
        "print('Test loss:', test_eval[0])\n",
        "print('Test accuracy:', test_eval[1])"
      ],
      "execution_count": 152,
      "outputs": [
        {
          "output_type": "stream",
          "text": [
            "Test loss: 0.5056592226028442\n",
            "Test accuracy: 0.9101999998092651\n"
          ],
          "name": "stdout"
        }
      ]
    },
    {
      "cell_type": "code",
      "metadata": {
        "id": "rCuGlP0FM21q",
        "colab_type": "code",
        "colab": {
          "base_uri": "https://localhost:8080/",
          "height": 1000
        },
        "outputId": "90cc6e8d-0166-4e51-8848-209b66e7a91b"
      },
      "source": [
        "model_train.history"
      ],
      "execution_count": 158,
      "outputs": [
        {
          "output_type": "execute_result",
          "data": {
            "text/plain": [
              "{'accuracy': [0.8324166536331177,\n",
              "  0.8947708606719971,\n",
              "  0.9093541502952576,\n",
              "  0.9213958382606506,\n",
              "  0.9304166436195374,\n",
              "  0.9381874799728394,\n",
              "  0.9477708339691162,\n",
              "  0.9532708525657654,\n",
              "  0.9593750238418579,\n",
              "  0.9662500023841858,\n",
              "  0.9703958630561829,\n",
              "  0.9749791622161865,\n",
              "  0.9787083268165588,\n",
              "  0.9811458587646484,\n",
              "  0.9835416674613953,\n",
              "  0.9838125109672546,\n",
              "  0.9864583611488342,\n",
              "  0.9878749847412109,\n",
              "  0.9880833625793457,\n",
              "  0.9907083511352539],\n",
              " 'loss': [0.4606304168701172,\n",
              "  0.2875179350376129,\n",
              "  0.2423619031906128,\n",
              "  0.212214395403862,\n",
              "  0.1864822953939438,\n",
              "  0.16560302674770355,\n",
              "  0.14289768040180206,\n",
              "  0.12486620247364044,\n",
              "  0.10721150785684586,\n",
              "  0.09030687808990479,\n",
              "  0.07784833014011383,\n",
              "  0.06678559631109238,\n",
              "  0.05675159767270088,\n",
              "  0.05051602050662041,\n",
              "  0.04380561783909798,\n",
              "  0.042423974722623825,\n",
              "  0.03573349863290787,\n",
              "  0.03167789801955223,\n",
              "  0.03354182466864586,\n",
              "  0.025519954040646553],\n",
              " 'val_accuracy': [0.8839166760444641,\n",
              "  0.8927500247955322,\n",
              "  0.905916690826416,\n",
              "  0.9140833616256714,\n",
              "  0.9172499775886536,\n",
              "  0.9131666421890259,\n",
              "  0.9202499985694885,\n",
              "  0.9170833230018616,\n",
              "  0.9211666584014893,\n",
              "  0.9237499833106995,\n",
              "  0.9177500009536743,\n",
              "  0.9184166789054871,\n",
              "  0.9200000166893005,\n",
              "  0.921750009059906,\n",
              "  0.9175000190734863,\n",
              "  0.9190000295639038,\n",
              "  0.921833336353302,\n",
              "  0.918749988079071,\n",
              "  0.9206666946411133,\n",
              "  0.9158333539962769],\n",
              " 'val_loss': [0.3259965777397156,\n",
              "  0.28901416063308716,\n",
              "  0.24972927570343018,\n",
              "  0.23818325996398926,\n",
              "  0.22806212306022644,\n",
              "  0.23580802977085114,\n",
              "  0.2328934520483017,\n",
              "  0.25102099776268005,\n",
              "  0.24648429453372955,\n",
              "  0.2583979666233063,\n",
              "  0.2986760139465332,\n",
              "  0.32770246267318726,\n",
              "  0.32487815618515015,\n",
              "  0.31758832931518555,\n",
              "  0.34727907180786133,\n",
              "  0.39517727494239807,\n",
              "  0.4218231439590454,\n",
              "  0.39185670018196106,\n",
              "  0.3987376391887665,\n",
              "  0.4559405446052551]}"
            ]
          },
          "metadata": {
            "tags": []
          },
          "execution_count": 158
        }
      ]
    },
    {
      "cell_type": "code",
      "metadata": {
        "id": "LCLs5XIJ5Sxe",
        "colab_type": "code",
        "colab": {
          "base_uri": "https://localhost:8080/",
          "height": 545
        },
        "outputId": "8a7c6a9c-8817-4a1d-daca-e54ae5bf35e7"
      },
      "source": [
        "accuracy = model_train.history['accuracy']\n",
        "val_accuracy = model_train.history['val_accuracy']\n",
        "loss = model_train.history['loss']\n",
        "val_loss = model_train.history['val_loss']\n",
        "epochs = range(len(accuracy))\n",
        "plt.plot(epochs, accuracy, 'bo', label='Training accuracy')\n",
        "plt.plot(epochs, val_accuracy, 'b', label='Validation accuracy')\n",
        "plt.title('Training and validation accuracy')\n",
        "plt.legend()\n",
        "plt.figure()\n",
        "plt.plot(epochs, loss, 'bo', label='Training loss')\n",
        "plt.plot(epochs, val_loss, 'b', label='Validation loss')\n",
        "plt.title('Training and validation loss')\n",
        "plt.legend()\n",
        "plt.show()"
      ],
      "execution_count": 159,
      "outputs": [
        {
          "output_type": "display_data",
          "data": {
            "image/png": "[encoded data removed]",
            "text/plain": [
              "<Figure size 432x288 with 1 Axes>"
            ]
          },
          "metadata": {
            "tags": []
          }
        },
        {
          "output_type": "display_data",
          "data": {
            "image/png": "[encoded data removed]",
            "text/plain": [
              "<Figure size 432x288 with 1 Axes>"
            ]
          },
          "metadata": {
            "tags": []
          }
        }
      ]
    },
    {
      "cell_type": "code",
      "metadata": {
        "id": "sO8JBbEH58Si",
        "colab_type": "code",
        "colab": {}
      },
      "source": [
        "fashion_model = tf.keras.Sequential()\n",
        "fashion_model.add(tf.keras.layers.Conv2D(32, kernel_size=(3, 3),activation='linear',padding='same',input_shape=(28,28,1)))\n",
        "fashion_model.add(tf.keras.layers.LeakyReLU(alpha=0.1))\n",
        "fashion_model.add(tf.keras.layers.MaxPooling2D((2, 2),padding='same'))\n",
        "fashion_model.add(tf.keras.layers.Dropout(0.25))\n",
        "fashion_model.add(tf.keras.layers.Conv2D(64, (3, 3), activation='linear',padding='same'))\n",
        "fashion_model.add(tf.keras.layers.LeakyReLU(alpha=0.1))\n",
        "fashion_model.add(tf.keras.layers.MaxPooling2D(pool_size=(2, 2),padding='same'))\n",
        "fashion_model.add(tf.keras.layers.Dropout(0.25))\n",
        "fashion_model.add(tf.keras.layers.Conv2D(128, (3, 3), activation='linear',padding='same'))\n",
        "fashion_model.add(tf.keras.layers.LeakyReLU(alpha=0.1))                  \n",
        "fashion_model.add(tf.keras.layers.MaxPooling2D(pool_size=(2, 2),padding='same'))\n",
        "fashion_model.add(tf.keras.layers.Dropout(0.4))\n",
        "fashion_model.add(tf.keras.layers.Flatten())\n",
        "fashion_model.add(tf.keras.layers.Dense(128, activation='linear'))\n",
        "fashion_model.add(tf.keras.layers.LeakyReLU(alpha=0.1))           \n",
        "fashion_model.add(tf.keras.layers.Dropout(0.3))\n",
        "fashion_model.add(tf.keras.layers.Dense(num_classes, activation='softmax'))"
      ],
      "execution_count": 0,
      "outputs": []
    },
    {
      "cell_type": "code",
      "metadata": {
        "id": "c9bDpu9K7G3C",
        "colab_type": "code",
        "colab": {
          "base_uri": "https://localhost:8080/",
          "height": 719
        },
        "outputId": "95306e05-0f9a-4032-a897-5dc50963d659"
      },
      "source": [
        "fashion_model.summary()\n"
      ],
      "execution_count": 155,
      "outputs": [
        {
          "output_type": "stream",
          "text": [
            "Model: \"sequential_19\"\n",
            "_________________________________________________________________\n",
            "Layer (type)                 Output Shape              Param #   \n",
            "=================================================================\n",
            "conv2d_24 (Conv2D)           (None, 28, 28, 32)        320       \n",
            "_________________________________________________________________\n",
            "leaky_re_lu_23 (LeakyReLU)   (None, 28, 28, 32)        0         \n",
            "_________________________________________________________________\n",
            "max_pooling2d_17 (MaxPooling (None, 14, 14, 32)        0         \n",
            "_________________________________________________________________\n",
            "dropout (Dropout)            (None, 14, 14, 32)        0         \n",
            "_________________________________________________________________\n",
            "conv2d_25 (Conv2D)           (None, 14, 14, 64)        18496     \n",
            "_________________________________________________________________\n",
            "leaky_re_lu_24 (LeakyReLU)   (None, 14, 14, 64)        0         \n",
            "_________________________________________________________________\n",
            "max_pooling2d_18 (MaxPooling (None, 7, 7, 64)          0         \n",
            "_________________________________________________________________\n",
            "dropout_1 (Dropout)          (None, 7, 7, 64)          0         \n",
            "_________________________________________________________________\n",
            "conv2d_26 (Conv2D)           (None, 7, 7, 128)         73856     \n",
            "_________________________________________________________________\n",
            "leaky_re_lu_25 (LeakyReLU)   (None, 7, 7, 128)         0         \n",
            "_________________________________________________________________\n",
            "max_pooling2d_19 (MaxPooling (None, 4, 4, 128)         0         \n",
            "_________________________________________________________________\n",
            "dropout_2 (Dropout)          (None, 4, 4, 128)         0         \n",
            "_________________________________________________________________\n",
            "flatten_5 (Flatten)          (None, 2048)              0         \n",
            "_________________________________________________________________\n",
            "dense_10 (Dense)             (None, 128)               262272    \n",
            "_________________________________________________________________\n",
            "leaky_re_lu_26 (LeakyReLU)   (None, 128)               0         \n",
            "_________________________________________________________________\n",
            "dropout_3 (Dropout)          (None, 128)               0         \n",
            "_________________________________________________________________\n",
            "dense_11 (Dense)             (None, 10)                1290      \n",
            "=================================================================\n",
            "Total params: 356,234\n",
            "Trainable params: 356,234\n",
            "Non-trainable params: 0\n",
            "_________________________________________________________________\n"
          ],
          "name": "stdout"
        }
      ]
    },
    {
      "cell_type": "code",
      "metadata": {
        "id": "dQh_myf17JZS",
        "colab_type": "code",
        "colab": {}
      },
      "source": [
        "fashion_model.compile(loss=tf.keras.losses.categorical_crossentropy, optimizer=tf.keras.optimizers.Adam(),metrics=['accuracy'])\n"
      ],
      "execution_count": 0,
      "outputs": []
    },
    {
      "cell_type": "code",
      "metadata": {
        "id": "6GpDULM37MQD",
        "colab_type": "code",
        "colab": {
          "base_uri": "https://localhost:8080/",
          "height": 686
        },
        "outputId": "da14b563-c8b8-40f6-947f-04bcb35255a1"
      },
      "source": [
        "fashion_train_dropout = fashion_model.fit(train_X, train_label, batch_size=64,epochs=20,verbose=1,validation_data=(valid_X, valid_label))"
      ],
      "execution_count": 162,
      "outputs": [
        {
          "output_type": "stream",
          "text": [
            "Epoch 1/20\n",
            "750/750 [==============================] - 87s 116ms/step - loss: 0.5944 - accuracy: 0.7798 - val_loss: 0.3929 - val_accuracy: 0.8518\n",
            "Epoch 2/20\n",
            "750/750 [==============================] - 87s 115ms/step - loss: 0.3750 - accuracy: 0.8645 - val_loss: 0.2999 - val_accuracy: 0.8890\n",
            "Epoch 3/20\n",
            "750/750 [==============================] - 86s 115ms/step - loss: 0.3299 - accuracy: 0.8783 - val_loss: 0.2889 - val_accuracy: 0.8917\n",
            "Epoch 4/20\n",
            "750/750 [==============================] - 87s 117ms/step - loss: 0.2991 - accuracy: 0.8892 - val_loss: 0.2616 - val_accuracy: 0.9033\n",
            "Epoch 5/20\n",
            "750/750 [==============================] - 86s 115ms/step - loss: 0.2794 - accuracy: 0.8961 - val_loss: 0.2409 - val_accuracy: 0.9113\n",
            "Epoch 6/20\n",
            "750/750 [==============================] - 86s 115ms/step - loss: 0.2671 - accuracy: 0.9011 - val_loss: 0.2381 - val_accuracy: 0.9137\n",
            "Epoch 7/20\n",
            "750/750 [==============================] - 86s 115ms/step - loss: 0.2575 - accuracy: 0.9052 - val_loss: 0.2432 - val_accuracy: 0.9108\n",
            "Epoch 8/20\n",
            "750/750 [==============================] - 86s 115ms/step - loss: 0.2501 - accuracy: 0.9075 - val_loss: 0.2407 - val_accuracy: 0.9076\n",
            "Epoch 9/20\n",
            "750/750 [==============================] - 87s 115ms/step - loss: 0.2403 - accuracy: 0.9109 - val_loss: 0.2240 - val_accuracy: 0.9198\n",
            "Epoch 10/20\n",
            "750/750 [==============================] - 87s 116ms/step - loss: 0.2340 - accuracy: 0.9120 - val_loss: 0.2189 - val_accuracy: 0.9202\n",
            "Epoch 11/20\n",
            "750/750 [==============================] - 87s 115ms/step - loss: 0.2302 - accuracy: 0.9143 - val_loss: 0.2212 - val_accuracy: 0.9206\n",
            "Epoch 12/20\n",
            "750/750 [==============================] - 87s 116ms/step - loss: 0.2241 - accuracy: 0.9167 - val_loss: 0.2210 - val_accuracy: 0.9195\n",
            "Epoch 13/20\n",
            "750/750 [==============================] - 87s 117ms/step - loss: 0.2159 - accuracy: 0.9195 - val_loss: 0.2154 - val_accuracy: 0.9213\n",
            "Epoch 14/20\n",
            "750/750 [==============================] - 88s 117ms/step - loss: 0.2163 - accuracy: 0.9181 - val_loss: 0.2204 - val_accuracy: 0.9219\n",
            "Epoch 15/20\n",
            "750/750 [==============================] - 89s 118ms/step - loss: 0.2122 - accuracy: 0.9196 - val_loss: 0.2151 - val_accuracy: 0.9217\n",
            "Epoch 16/20\n",
            "750/750 [==============================] - 88s 117ms/step - loss: 0.2084 - accuracy: 0.9212 - val_loss: 0.2162 - val_accuracy: 0.9230\n",
            "Epoch 17/20\n",
            "750/750 [==============================] - 88s 117ms/step - loss: 0.2052 - accuracy: 0.9217 - val_loss: 0.2156 - val_accuracy: 0.9234\n",
            "Epoch 18/20\n",
            "750/750 [==============================] - 88s 117ms/step - loss: 0.2032 - accuracy: 0.9222 - val_loss: 0.2130 - val_accuracy: 0.9250\n",
            "Epoch 19/20\n",
            "750/750 [==============================] - 88s 118ms/step - loss: 0.2014 - accuracy: 0.9242 - val_loss: 0.2070 - val_accuracy: 0.9261\n",
            "Epoch 20/20\n",
            "750/750 [==============================] - 88s 117ms/step - loss: 0.1981 - accuracy: 0.9242 - val_loss: 0.2095 - val_accuracy: 0.9270\n"
          ],
          "name": "stdout"
        }
      ]
    },
    {
      "cell_type": "code",
      "metadata": {
        "id": "6sOCptVl7POZ",
        "colab_type": "code",
        "colab": {
          "base_uri": "https://localhost:8080/",
          "height": 104
        },
        "outputId": "6137bed6-a1c8-4905-fd0d-5725bd095aee"
      },
      "source": [
        "fashion_model.save(\"fashion_model_dropout.h5py\")"
      ],
      "execution_count": 163,
      "outputs": [
        {
          "output_type": "stream",
          "text": [
            "WARNING:tensorflow:From /usr/local/lib/python3.6/dist-packages/tensorflow/python/ops/resource_variable_ops.py:1817: calling BaseResourceVariable.__init__ (from tensorflow.python.ops.resource_variable_ops) with constraint is deprecated and will be removed in a future version.\n",
            "Instructions for updating:\n",
            "If using Keras pass *_constraint arguments to layers.\n",
            "INFO:tensorflow:Assets written to: fashion_model_dropout.h5py/assets\n"
          ],
          "name": "stdout"
        }
      ]
    },
    {
      "cell_type": "code",
      "metadata": {
        "id": "LRkmrduA7V9d",
        "colab_type": "code",
        "colab": {
          "base_uri": "https://localhost:8080/",
          "height": 33
        },
        "outputId": "d4441d35-21a5-46da-9ba0-4a1af6139bb7"
      },
      "source": [
        "test_eval = fashion_model.evaluate(test_X, test_Y_one_hot, verbose=1)\n"
      ],
      "execution_count": 164,
      "outputs": [
        {
          "output_type": "stream",
          "text": [
            "313/313 [==============================] - 6s 18ms/step - loss: 0.2202 - accuracy: 0.9186\n"
          ],
          "name": "stdout"
        }
      ]
    },
    {
      "cell_type": "code",
      "metadata": {
        "id": "HejOWax37YKV",
        "colab_type": "code",
        "colab": {
          "base_uri": "https://localhost:8080/",
          "height": 50
        },
        "outputId": "8eac610b-4f38-48cc-8ab4-e3f05f853240"
      },
      "source": [
        "print('Test loss:', test_eval[0])\n",
        "print('Test accuracy:', test_eval[1])"
      ],
      "execution_count": 165,
      "outputs": [
        {
          "output_type": "stream",
          "text": [
            "Test loss: 0.22017642855644226\n",
            "Test accuracy: 0.9186000227928162\n"
          ],
          "name": "stdout"
        }
      ]
    },
    {
      "cell_type": "code",
      "metadata": {
        "id": "AY34tiTq7aAu",
        "colab_type": "code",
        "colab": {
          "base_uri": "https://localhost:8080/",
          "height": 545
        },
        "outputId": "e0ea70b1-60b1-4653-a152-367f4ef970e6"
      },
      "source": [
        "accuracy = fashion_train_dropout.history['accuracy']\n",
        "val_accuracy = fashion_train_dropout.history['val_accuracy']\n",
        "loss = fashion_train_dropout.history['loss']\n",
        "val_loss = fashion_train_dropout.history['val_loss']\n",
        "epochs = range(len(accuracy))\n",
        "plt.plot(epochs, accuracy, 'bo', label='Training accuracy')\n",
        "plt.plot(epochs, val_accuracy, 'b', label='Validation accuracy')\n",
        "plt.title('Training and validation accuracy')\n",
        "plt.legend()\n",
        "plt.figure()\n",
        "plt.plot(epochs, loss, 'bo', label='Training loss')\n",
        "plt.plot(epochs, val_loss, 'b', label='Validation loss')\n",
        "plt.title('Training and validation loss')\n",
        "plt.legend()\n",
        "plt.show()"
      ],
      "execution_count": 166,
      "outputs": [
        {
          "output_type": "display_data",
          "data": {
            "image/png": "[encoded data removed]",
            "text/plain": [
              "<Figure size 432x288 with 1 Axes>"
            ]
          },
          "metadata": {
            "tags": []
          }
        },
        {
          "output_type": "display_data",
          "data": {
            "image/png": "[encoded data removed]",
            "text/plain": [
              "<Figure size 432x288 with 1 Axes>"
            ]
          },
          "metadata": {
            "tags": []
          }
        }
      ]
    },
    {
      "cell_type": "code",
      "metadata": {
        "id": "wrWQlPcd7c_w",
        "colab_type": "code",
        "colab": {}
      },
      "source": [
        "predicted_classes = fashion_model.predict(test_X)\n"
      ],
      "execution_count": 0,
      "outputs": []
    },
    {
      "cell_type": "code",
      "metadata": {
        "id": "nfIGrvQ47fki",
        "colab_type": "code",
        "colab": {}
      },
      "source": [
        "predicted_classes = np.argmax(np.round(predicted_classes),axis=1)\n"
      ],
      "execution_count": 0,
      "outputs": []
    },
    {
      "cell_type": "code",
      "metadata": {
        "id": "ZbbqfO177haN",
        "colab_type": "code",
        "colab": {
          "base_uri": "https://localhost:8080/",
          "height": 330
        },
        "outputId": "a8e01e94-51d8-4a22-c1d7-09bbe246fdc2"
      },
      "source": [
        "correct = np.where(predicted_classes==test_Y)[0]\n",
        "print (\"Found %d correct labels\" % len(correct))\n",
        "for i, correct in enumerate(correct[:9]):\n",
        "    plt.subplot(3,3,i+1)\n",
        "    plt.imshow(test_X[correct].reshape(28,28), cmap='gray', interpolation='none')\n",
        "    plt.title(\"Predicted {}, Class {}\".format(predicted_classes[correct], test_Y[correct]))\n",
        "    plt.tight_layout()"
      ],
      "execution_count": 169,
      "outputs": [
        {
          "output_type": "stream",
          "text": [
            "Found 9137 correct labels\n",
            "ERROR! Session/line number was not unique in database. History logging moved to new session 63\n"
          ],
          "name": "stdout"
        },
        {
          "output_type": "display_data",
          "data": {
            "image/png": "[encoded data removed]",
            "text/plain": [
              "<Figure size 432x288 with 9 Axes>"
            ]
          },
          "metadata": {
            "tags": []
          }
        }
      ]
    },
    {
      "cell_type": "code",
      "metadata": {
        "id": "NZXKuvpE7lGl",
        "colab_type": "code",
        "colab": {
          "base_uri": "https://localhost:8080/",
          "height": 313
        },
        "outputId": "65a7b1c0-3288-4e43-ef58-24ea98371b43"
      },
      "source": [
        "incorrect = np.where(predicted_classes!=test_Y)[0]\n",
        "print (\"Found %d incorrect labels\" % len(incorrect))\n",
        "for i, incorrect in enumerate(incorrect[:9]):\n",
        "    plt.subplot(3,3,i+1)\n",
        "    plt.imshow(test_X[incorrect].reshape(28,28), cmap='gray', interpolation='none')\n",
        "    plt.title(\"Predicted {}, Class {}\".format(predicted_classes[incorrect], test_Y[incorrect]))\n",
        "    plt.tight_layout()"
      ],
      "execution_count": 170,
      "outputs": [
        {
          "output_type": "stream",
          "text": [
            "Found 863 incorrect labels\n"
          ],
          "name": "stdout"
        },
        {
          "output_type": "display_data",
          "data": {
            "image/png": "[encoded data removed]",
            "text/plain": [
              "<Figure size 432x288 with 9 Axes>"
            ]
          },
          "metadata": {
            "tags": []
          }
        }
      ]
    },
    {
      "cell_type": "code",
      "metadata": {
        "id": "vxs2lD107ncR",
        "colab_type": "code",
        "colab": {
          "base_uri": "https://localhost:8080/",
          "height": 301
        },
        "outputId": "52487dc9-dec6-4517-e894-81592e24f2d5"
      },
      "source": [
        "from sklearn.metrics import classification_report\n",
        "target_names = [\"Class {}\".format(i) for i in range(num_classes)]\n",
        "print(classification_report(test_Y, predicted_classes, target_names=target_names))"
      ],
      "execution_count": 171,
      "outputs": [
        {
          "output_type": "stream",
          "text": [
            "              precision    recall  f1-score   support\n",
            "\n",
            "     Class 0       0.76      0.90      0.83      1000\n",
            "     Class 1       0.99      0.99      0.99      1000\n",
            "     Class 2       0.89      0.86      0.88      1000\n",
            "     Class 3       0.94      0.90      0.92      1000\n",
            "     Class 4       0.89      0.83      0.86      1000\n",
            "     Class 5       0.99      0.98      0.98      1000\n",
            "     Class 6       0.77      0.74      0.75      1000\n",
            "     Class 7       0.97      0.97      0.97      1000\n",
            "     Class 8       0.99      0.99      0.99      1000\n",
            "     Class 9       0.96      0.98      0.97      1000\n",
            "\n",
            "    accuracy                           0.91     10000\n",
            "   macro avg       0.92      0.91      0.91     10000\n",
            "weighted avg       0.92      0.91      0.91     10000\n",
            "\n"
          ],
          "name": "stdout"
        }
      ]
    },
    {
      "cell_type": "code",
      "metadata": {
        "id": "AUM1yZp_7q8O",
        "colab_type": "code",
        "colab": {}
      },
      "source": [
        ""
      ],
      "execution_count": 0,
      "outputs": []
    }
  ]
}